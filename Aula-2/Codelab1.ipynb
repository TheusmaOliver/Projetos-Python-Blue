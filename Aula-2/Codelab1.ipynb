{
  "nbformat": 4,
  "nbformat_minor": 0,
  "metadata": {
    "colab": {
      "name": "Codelab1.ipynb",
      "provenance": [],
      "authorship_tag": "ABX9TyP8eVZeJ5i3UR8iHx24B1B6",
      "include_colab_link": true
    },
    "kernelspec": {
      "name": "python3",
      "display_name": "Python 3"
    },
    "language_info": {
      "name": "python"
    }
  },
  "cells": [
    {
      "cell_type": "markdown",
      "metadata": {
        "id": "view-in-github",
        "colab_type": "text"
      },
      "source": [
        "<a href=\"https://colab.research.google.com/github/TheusmaOliver/Projetos-Python-Blue/blob/main/Aula-2/Codelab1.ipynb\" target=\"_parent\"><img src=\"https://colab.research.google.com/assets/colab-badge.svg\" alt=\"Open In Colab\"/></a>"
      ]
    },
    {
      "cell_type": "markdown",
      "metadata": {
        "id": "l5IKopwXK6up"
      },
      "source": [
        "# **Resolução - Exercício 1**"
      ]
    },
    {
      "cell_type": "code",
      "metadata": {
        "colab": {
          "base_uri": "https://localhost:8080/"
        },
        "id": "OFIQ8UkwJ0G3",
        "outputId": "d414a155-da90-42ef-f4cc-02c978b45da4"
      },
      "source": [
        "valor_refeicao = 42.54\n",
        "taxa = 10\n",
        "\n",
        "valor_taxa = float(valor_refeicao * (taxa / 100))\n",
        "total = valor_refeicao + valor_taxa\n",
        "\n",
        "print(f\"taxa do garçom R$ {valor_taxa:.2f} reais\" )\n",
        "print(f\"valor total da conta R$ {total:.2f} reais\")"
      ],
      "execution_count": 17,
      "outputs": [
        {
          "output_type": "stream",
          "text": [
            "taxa do garçom R$ 4.25 reais\n",
            "valor total da conta R$ 46.79 reais\n"
          ],
          "name": "stdout"
        }
      ]
    },
    {
      "cell_type": "markdown",
      "metadata": {
        "id": "OL3uxp65O4nC"
      },
      "source": [
        "# **Resolução - Exercício 2**"
      ]
    },
    {
      "cell_type": "code",
      "metadata": {
        "colab": {
          "base_uri": "https://localhost:8080/"
        },
        "id": "5KFYHd1hO7-m",
        "outputId": "9bc2378a-b481-444b-c2c3-0ecfbc110f94"
      },
      "source": [
        "valor_total = 100.98\n",
        "valor_pago = 150.00\n",
        "\n",
        "troco = valor_pago - valor_total\n",
        "\n",
        "print(f\"Valor da conta R$ {valor_total} reais\")\n",
        "print(f\"Troco R$ {troco:.2f} reais\")"
      ],
      "execution_count": 16,
      "outputs": [
        {
          "output_type": "stream",
          "text": [
            "Valor da conta R$ 100.98 reais\n",
            "Troco R$ 49.02 reais\n"
          ],
          "name": "stdout"
        }
      ]
    },
    {
      "cell_type": "markdown",
      "metadata": {
        "id": "DCU8hvi9QRWo"
      },
      "source": [
        "# **Resolução - Exercício 3**"
      ]
    },
    {
      "cell_type": "code",
      "metadata": {
        "colab": {
          "base_uri": "https://localhost:8080/"
        },
        "id": "bzzxGKAaQVJ-",
        "outputId": "cc5abc61-2880-4d44-aaa1-a3816d246174"
      },
      "source": [
        "ano_nascimento = 2000\n",
        "ano_atual = 2021\n",
        "\n",
        "idade = ano_atual - ano_nascimento\n",
        "\n",
        "print(\"Sua idade é: \", idade)\n",
        "print(\"Você está  na flor da idade!!\")"
      ],
      "execution_count": 18,
      "outputs": [
        {
          "output_type": "stream",
          "text": [
            "Sua idade é:  21\n",
            "Você está  na flor da idade!!\n"
          ],
          "name": "stdout"
        }
      ]
    },
    {
      "cell_type": "markdown",
      "metadata": {
        "id": "cboHLdf1R1DG"
      },
      "source": [
        "# **Exercícios para treinar**"
      ]
    },
    {
      "cell_type": "markdown",
      "metadata": {
        "id": "07zqsoK9SGub"
      },
      "source": [
        "**Resolução - Exercício 1**"
      ]
    },
    {
      "cell_type": "code",
      "metadata": {
        "colab": {
          "base_uri": "https://localhost:8080/"
        },
        "id": "CmRHC5sWSJ1o",
        "outputId": "df0719ad-8537-417f-b16f-442e00c3b741"
      },
      "source": [
        "print(\"O primeiro pograma a gente nunca esquece!\")"
      ],
      "execution_count": 19,
      "outputs": [
        {
          "output_type": "stream",
          "text": [
            "O primeiro pograma a gente nunca esquece!\n"
          ],
          "name": "stdout"
        }
      ]
    },
    {
      "cell_type": "markdown",
      "metadata": {
        "id": "NBjLcBZzSQWP"
      },
      "source": [
        "**Resolução - Exercício 2**"
      ]
    },
    {
      "cell_type": "code",
      "metadata": {
        "colab": {
          "base_uri": "https://localhost:8080/"
        },
        "id": "_ldXCHATSTeX",
        "outputId": "0b15f899-9fc0-47cc-f275-60fcef0f2fba"
      },
      "source": [
        "nome = input(\"Digite seu nome completo: \")\n",
        "print()\n",
        "endereco = input(\"Digite seu endereço: \")\n",
        "print()\n",
        "cep = int(input(\"Digite seu CEP: \"))\n",
        "print()\n",
        "telefone = int(input(\"Digite seu telefone: \"))\n",
        "print()\n",
        "print(\"Nome: \", nome)\n",
        "print(\"Endereço: \", endereco)\n",
        "print(\"Cep: \", cep, \"Telefone: \", telefone)"
      ],
      "execution_count": 43,
      "outputs": [
        {
          "output_type": "stream",
          "text": [
            "Digite seu nome completo: Matheus Rodrigues de Oliveira\n",
            "\n",
            "Digite seu endereço: Quadra 19 Conjunto B Casa 13\n",
            "\n",
            "Digite seu CEP: 73357010\n",
            "\n",
            "Digite seu telefone: 61992588022\n",
            "\n",
            "Nome:  Matheus Rodrigues de Oliveira\n",
            "Endereço:  Quadra 19 Conjunto B Casa 13\n",
            "Cep:  73357010 Telefone:  61992588022\n"
          ],
          "name": "stdout"
        }
      ]
    },
    {
      "cell_type": "markdown",
      "metadata": {
        "id": "IubPaCsqW7sS"
      },
      "source": [
        "**Resolução - Exercício 3**"
      ]
    },
    {
      "cell_type": "code",
      "metadata": {
        "colab": {
          "base_uri": "https://localhost:8080/"
        },
        "id": "iyJsfM5gSbh_",
        "outputId": "23f08fbf-7f83-42ef-f279-4b8b1a19fc65"
      },
      "source": [
        "print(\"Letra da música Imagine Dragons - Believer\")\n",
        "print('\\n \"Pain!\\n You made me a, you made me a believer, believer\\n Pain!\\n You break me down and build me up, believer, believer\\n Pain!\\n Oh let the bullets fly, oh let them rain\\n My life, my love, my drive, it came from\\n Pain!\\n You made me a, you made me a believer, believer\"')"
      ],
      "execution_count": 40,
      "outputs": [
        {
          "output_type": "stream",
          "text": [
            "Letra da música Imagine Dragons - Believer\n",
            "\n",
            " \"Pain!\n",
            " You made me a, you made me a believer, believer\n",
            " Pain!\n",
            " You break me down and build me up, believer, believer\n",
            " Pain!\n",
            " Oh let the bullets fly, oh let them rain\n",
            " My life, my love, my drive, it came from\n",
            " Pain!\n",
            " You made me a, you made me a believer, believer\"\n"
          ],
          "name": "stdout"
        }
      ]
    },
    {
      "cell_type": "markdown",
      "metadata": {
        "id": "a_lWuezdXCat"
      },
      "source": [
        "**Resolução - Exercício 4**"
      ]
    },
    {
      "cell_type": "code",
      "metadata": {
        "colab": {
          "base_uri": "https://localhost:8080/"
        },
        "id": "1dGg5BtWXFbm",
        "outputId": "a126cf12-5638-4f47-b199-b03e7e1fe31e"
      },
      "source": [
        "nota_aline = 9.0\n",
        "nota_mario = \"DEZ\"\n",
        "nota_sergio = 4.5\n",
        "nota_shirley = 7.0\n",
        "\n",
        "print(\"ALUNO (A)  NOTA\",\"\\n\"\n",
        "      \"=========  ====\",\"\\n\"\n",
        "      f\"ALINE      {nota_aline}\",\"\\n\"\n",
        "      \"MÁRIO     \",nota_mario,\"\\n\"\n",
        "      f\"SÉRGIO     {nota_sergio}\",\"\\n\"\n",
        "      f\"SHIRLEY    {nota_shirley}\")"
      ],
      "execution_count": 52,
      "outputs": [
        {
          "output_type": "stream",
          "text": [
            "ALUNO (A)  NOTA \n",
            "=========  ==== \n",
            "ALINE      9.0 \n",
            "MÁRIO      DEZ \n",
            "SÉRGIO     4.5 \n",
            "SHIRLEY    7.0\n"
          ],
          "name": "stdout"
        }
      ]
    }
  ]
}