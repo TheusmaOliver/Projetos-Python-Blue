{
  "nbformat": 4,
  "nbformat_minor": 0,
  "metadata": {
    "colab": {
      "name": "Projeto2.ipynb",
      "provenance": [],
      "collapsed_sections": [],
      "authorship_tag": "ABX9TyMzmvaPxgdCAlwS6WCmHpPl",
      "include_colab_link": true
    },
    "kernelspec": {
      "name": "python3",
      "display_name": "Python 3"
    },
    "language_info": {
      "name": "python"
    }
  },
  "cells": [
    {
      "cell_type": "markdown",
      "metadata": {
        "id": "view-in-github",
        "colab_type": "text"
      },
      "source": [
        "<a href=\"https://colab.research.google.com/github/TheusmaOliver/Projetos-Python-Blue/blob/main/Aula-2/Projeto2.ipynb\" target=\"_parent\"><img src=\"https://colab.research.google.com/assets/colab-badge.svg\" alt=\"Open In Colab\"/></a>"
      ]
    },
    {
      "cell_type": "markdown",
      "metadata": {
        "id": "qgx5MEjHqImW"
      },
      "source": [
        "# **Variáveis**\n"
      ]
    },
    {
      "cell_type": "markdown",
      "metadata": {
        "id": "pRpdwHBKxNdO"
      },
      "source": [
        "Exemplo 1:"
      ]
    },
    {
      "cell_type": "code",
      "metadata": {
        "colab": {
          "base_uri": "https://localhost:8080/"
        },
        "id": "5RLebUzmqRCL",
        "outputId": "bbff5a9a-ce66-47d9-acc4-da2d52019999"
      },
      "source": [
        "b = 42\n",
        "print(b)\n",
        "print(type(b))"
      ],
      "execution_count": null,
      "outputs": [
        {
          "output_type": "stream",
          "text": [
            "42\n",
            "<class 'int'>\n"
          ],
          "name": "stdout"
        }
      ]
    },
    {
      "cell_type": "markdown",
      "metadata": {
        "id": "UBjz3oTvxVR1"
      },
      "source": [
        "Exemplo 2:"
      ]
    },
    {
      "cell_type": "code",
      "metadata": {
        "colab": {
          "base_uri": "https://localhost:8080/"
        },
        "id": "bejnlkgoxi76",
        "outputId": "1c4b02fd-c6ad-4d04-db39-cfb25db7923f"
      },
      "source": [
        "b = 1.8 \n",
        "print(b)\n",
        "print(type(b))"
      ],
      "execution_count": null,
      "outputs": [
        {
          "output_type": "stream",
          "text": [
            "1.8\n",
            "<class 'float'>\n"
          ],
          "name": "stdout"
        }
      ]
    },
    {
      "cell_type": "markdown",
      "metadata": {
        "id": "rFdTvJj9yfyt"
      },
      "source": [
        "Exemplo 3:"
      ]
    },
    {
      "cell_type": "code",
      "metadata": {
        "colab": {
          "base_uri": "https://localhost:8080/"
        },
        "id": "G6PHwNH2yhH_",
        "outputId": "36b5144e-7936-431c-964b-8a551fa475da"
      },
      "source": [
        "c = \"Pelos poderes de Grayskul! Eu tenho a força!\"\n",
        "print(c)\n",
        "print(type(c))"
      ],
      "execution_count": null,
      "outputs": [
        {
          "output_type": "stream",
          "text": [
            "Pelos poderes de Grayskul! Eu tenho a força!\n",
            "<class 'str'>\n"
          ],
          "name": "stdout"
        }
      ]
    },
    {
      "cell_type": "markdown",
      "metadata": {
        "id": "zydut4x6zl5t"
      },
      "source": [
        "**Sintaxe elegante**"
      ]
    },
    {
      "cell_type": "code",
      "metadata": {
        "colab": {
          "base_uri": "https://localhost:8080/"
        },
        "id": "FM-7Cd9Pzsmt",
        "outputId": "a0f3f37a-41c0-4289-d79d-2de8f8ff199b"
      },
      "source": [
        "print(\"Olá mundo\")"
      ],
      "execution_count": null,
      "outputs": [
        {
          "output_type": "stream",
          "text": [
            "Olá mundo\n"
          ],
          "name": "stdout"
        }
      ]
    },
    {
      "cell_type": "code",
      "metadata": {
        "colab": {
          "base_uri": "https://localhost:8080/"
        },
        "id": "mlbiZ68nzwZ4",
        "outputId": "1cb21225-6458-4858-e63a-7920963028e0"
      },
      "source": [
        "x = 'Blue'\n",
        "print(x)"
      ],
      "execution_count": null,
      "outputs": [
        {
          "output_type": "stream",
          "text": [
            "Blue\n"
          ],
          "name": "stdout"
        }
      ]
    },
    {
      "cell_type": "markdown",
      "metadata": {
        "id": "Z7ByP297z30y"
      },
      "source": [
        "**Tipagem dinâmica**"
      ]
    },
    {
      "cell_type": "code",
      "metadata": {
        "colab": {
          "base_uri": "https://localhost:8080/"
        },
        "id": "6Vmnthpiz6z0",
        "outputId": "a9d1592e-d412-4be0-eeb8-75d5f21b0d15"
      },
      "source": [
        "b,t = 10,20\n",
        "print('Resultado: ', b+t)"
      ],
      "execution_count": null,
      "outputs": [
        {
          "output_type": "stream",
          "text": [
            "Resultado:  30\n"
          ],
          "name": "stdout"
        }
      ]
    },
    {
      "cell_type": "code",
      "metadata": {
        "colab": {
          "base_uri": "https://localhost:8080/"
        },
        "id": "Sw02db573OF0",
        "outputId": "23b7d8fe-bd71-4b28-d3ee-524e8e4c163b"
      },
      "source": [
        "a,b,c,d = 1,2,3,4\n",
        "print (\"Soma:\", a+b, \"Multiplicação:\", c*d)"
      ],
      "execution_count": null,
      "outputs": [
        {
          "output_type": "stream",
          "text": [
            "Soma: 3 Multiplicação: 12\n"
          ],
          "name": "stdout"
        }
      ]
    },
    {
      "cell_type": "markdown",
      "metadata": {
        "id": "nkj2TNey0EKw"
      },
      "source": [
        "**Tipagem forte**"
      ]
    },
    {
      "cell_type": "code",
      "metadata": {
        "id": "hOL6-FEN1j7K",
        "colab": {
          "base_uri": "https://localhost:8080/",
          "height": 237
        },
        "outputId": "13e75ef4-9305-4263-c098-e25cf2f810bc"
      },
      "source": [
        "i,j = 10, 'Gustavo'\n",
        "print(i)\n",
        "print(j)\n",
        "print(i+j)"
      ],
      "execution_count": null,
      "outputs": [
        {
          "output_type": "stream",
          "text": [
            "10\n",
            "Gustavo\n"
          ],
          "name": "stdout"
        },
        {
          "output_type": "error",
          "ename": "TypeError",
          "evalue": "ignored",
          "traceback": [
            "\u001b[0;31m---------------------------------------------------------------------------\u001b[0m",
            "\u001b[0;31mTypeError\u001b[0m                                 Traceback (most recent call last)",
            "\u001b[0;32m<ipython-input-27-02553f290e14>\u001b[0m in \u001b[0;36m<module>\u001b[0;34m()\u001b[0m\n\u001b[1;32m      2\u001b[0m \u001b[0mprint\u001b[0m\u001b[0;34m(\u001b[0m\u001b[0mi\u001b[0m\u001b[0;34m)\u001b[0m\u001b[0;34m\u001b[0m\u001b[0;34m\u001b[0m\u001b[0m\n\u001b[1;32m      3\u001b[0m \u001b[0mprint\u001b[0m\u001b[0;34m(\u001b[0m\u001b[0mj\u001b[0m\u001b[0;34m)\u001b[0m\u001b[0;34m\u001b[0m\u001b[0;34m\u001b[0m\u001b[0m\n\u001b[0;32m----> 4\u001b[0;31m \u001b[0mprint\u001b[0m\u001b[0;34m(\u001b[0m\u001b[0mi\u001b[0m\u001b[0;34m+\u001b[0m\u001b[0mj\u001b[0m\u001b[0;34m)\u001b[0m\u001b[0;34m\u001b[0m\u001b[0;34m\u001b[0m\u001b[0m\n\u001b[0m",
            "\u001b[0;31mTypeError\u001b[0m: unsupported operand type(s) for +: 'int' and 'str'"
          ]
        }
      ]
    },
    {
      "cell_type": "markdown",
      "metadata": {
        "id": "A0JOPcSr5Xsz"
      },
      "source": [
        "**Estrutura de dados de alto nível**"
      ]
    },
    {
      "cell_type": "code",
      "metadata": {
        "colab": {
          "base_uri": "https://localhost:8080/"
        },
        "id": "_suyjwq25bj6",
        "outputId": "e9242e06-2e2c-4687-cf4c-da3f429f4ad6"
      },
      "source": [
        "l = [3,2,1]\n",
        "m = l\n",
        "l[1] = 8\n",
        "print(m)\n",
        "print()\n",
        "\n",
        "m = 2\n",
        "l = m\n",
        "l = 3\n",
        "m = l\n",
        "print(l)\n",
        "print(m)"
      ],
      "execution_count": null,
      "outputs": [
        {
          "output_type": "stream",
          "text": [
            "[3, 8, 1]\n",
            "\n",
            "3\n",
            "3\n"
          ],
          "name": "stdout"
        }
      ]
    },
    {
      "cell_type": "code",
      "metadata": {
        "colab": {
          "base_uri": "https://localhost:8080/"
        },
        "id": "jQVQOD895iP7",
        "outputId": "ce97cc81-921f-492a-a842-e51591b43994"
      },
      "source": [
        "d = ['23', 'Sexta-feira', 'Março', '2021']\n",
        "print(d)"
      ],
      "execution_count": null,
      "outputs": [
        {
          "output_type": "stream",
          "text": [
            "['23', 'Sexta-feira', 'Março', '2021']\n"
          ],
          "name": "stdout"
        }
      ]
    },
    {
      "cell_type": "markdown",
      "metadata": {
        "id": "xGoPcMaH5063"
      },
      "source": [
        "# **COMANDO INPUT**"
      ]
    },
    {
      "cell_type": "code",
      "metadata": {
        "colab": {
          "base_uri": "https://localhost:8080/",
          "height": 53
        },
        "id": "U3ikWHtF5459",
        "outputId": "6599f2ee-cac8-4541-e3ac-14978b3d25ee"
      },
      "source": [
        "nome = input(\"Digite seu nome e sobrenome: \")\n",
        "nome"
      ],
      "execution_count": null,
      "outputs": [
        {
          "output_type": "stream",
          "text": [
            "Digite seu nome e sobrenome: matheus rodrigues\n"
          ],
          "name": "stdout"
        },
        {
          "output_type": "execute_result",
          "data": {
            "application/vnd.google.colaboratory.intrinsic+json": {
              "type": "string"
            },
            "text/plain": [
              "'matheus rodrigues'"
            ]
          },
          "metadata": {
            "tags": []
          },
          "execution_count": 39
        }
      ]
    },
    {
      "cell_type": "code",
      "metadata": {
        "colab": {
          "base_uri": "https://localhost:8080/"
        },
        "id": "KJeB4tq16K8P",
        "outputId": "3f84bb0e-da42-4544-f1cf-dad0a9579d35"
      },
      "source": [
        "num = int(input(\"Digite seu numero da sorte: \"))\n",
        "num"
      ],
      "execution_count": null,
      "outputs": [
        {
          "output_type": "stream",
          "text": [
            "Digite seu numero da sorte: 20\n"
          ],
          "name": "stdout"
        },
        {
          "output_type": "execute_result",
          "data": {
            "text/plain": [
              "20"
            ]
          },
          "metadata": {
            "tags": []
          },
          "execution_count": 42
        }
      ]
    },
    {
      "cell_type": "code",
      "metadata": {
        "colab": {
          "base_uri": "https://localhost:8080/"
        },
        "id": "MB3rIhlT8kI6",
        "outputId": "840bbf2a-cd2a-4c56-eb23-439522363c36"
      },
      "source": [
        "altura = float(input(\"Digite sua altura: \"))\n",
        "altura"
      ],
      "execution_count": null,
      "outputs": [
        {
          "output_type": "stream",
          "text": [
            "Digite sua altura: 1.80\n"
          ],
          "name": "stdout"
        },
        {
          "output_type": "execute_result",
          "data": {
            "text/plain": [
              "1.8"
            ]
          },
          "metadata": {
            "tags": []
          },
          "execution_count": 43
        }
      ]
    },
    {
      "cell_type": "markdown",
      "metadata": {
        "id": "y4UB8cxS-9b5"
      },
      "source": [
        "# **STRINGS**"
      ]
    },
    {
      "cell_type": "code",
      "metadata": {
        "colab": {
          "base_uri": "https://localhost:8080/"
        },
        "id": "W6uYFAf_-_0s",
        "outputId": "3ecd8073-264a-4301-d9a2-74e1e5286cb3"
      },
      "source": [
        "print(\"Qual é o seu nome?\")"
      ],
      "execution_count": null,
      "outputs": [
        {
          "output_type": "stream",
          "text": [
            "Qual é o seu nome?\n"
          ],
          "name": "stdout"
        }
      ]
    },
    {
      "cell_type": "markdown",
      "metadata": {
        "id": "pCJU_mS7_mNP"
      },
      "source": [
        "**Concatenação de strings**"
      ]
    },
    {
      "cell_type": "markdown",
      "metadata": {
        "id": "cOijv8Ou_y3S"
      },
      "source": [
        "**Exemplo 1:**"
      ]
    },
    {
      "cell_type": "code",
      "metadata": {
        "colab": {
          "base_uri": "https://localhost:8080/"
        },
        "id": "7YLy4XMh_1KU",
        "outputId": "869080de-e47c-45b7-d93c-cf37510d7bc3"
      },
      "source": [
        "print(\"Programação\" + \"Python\")"
      ],
      "execution_count": null,
      "outputs": [
        {
          "output_type": "stream",
          "text": [
            "ProgramaçãoPython\n"
          ],
          "name": "stdout"
        }
      ]
    },
    {
      "cell_type": "markdown",
      "metadata": {
        "id": "4pjx0xSy_8P9"
      },
      "source": [
        "**Exemplo 2:**"
      ]
    },
    {
      "cell_type": "code",
      "metadata": {
        "colab": {
          "base_uri": "https://localhost:8080/"
        },
        "id": "Ipm8Xt9V_-L7",
        "outputId": "2764d893-3af2-4d1e-da8e-f6cfc99ee979"
      },
      "source": [
        "p = \"Programação\"\n",
        "py = \"Python\"\n",
        "prog = p + py\n",
        "print(prog)"
      ],
      "execution_count": null,
      "outputs": [
        {
          "output_type": "stream",
          "text": [
            "ProgramaçãoPython\n"
          ],
          "name": "stdout"
        }
      ]
    },
    {
      "cell_type": "markdown",
      "metadata": {
        "id": "wK24C05wALz7"
      },
      "source": [
        "**MANIPULAÇÃO DE STRINGS**"
      ]
    },
    {
      "cell_type": "markdown",
      "metadata": {
        "id": "2ao9-UD6AVW4"
      },
      "source": [
        "*Utilizando len()*"
      ]
    },
    {
      "cell_type": "code",
      "metadata": {
        "colab": {
          "base_uri": "https://localhost:8080/"
        },
        "id": "T90VqKWHAabz",
        "outputId": "44df74eb-ac12-458c-cb59-6e05f8b4a2ef"
      },
      "source": [
        "teste = \"Programação Python\"\n",
        "len(teste)"
      ],
      "execution_count": null,
      "outputs": [
        {
          "output_type": "execute_result",
          "data": {
            "text/plain": [
              "18"
            ]
          },
          "metadata": {
            "tags": []
          },
          "execution_count": 50
        }
      ]
    },
    {
      "cell_type": "markdown",
      "metadata": {
        "id": "T2FfzaF0B20h"
      },
      "source": [
        "*Utilizando capitalize()*"
      ]
    },
    {
      "cell_type": "code",
      "metadata": {
        "id": "8Q1aY6fOB65w",
        "colab": {
          "base_uri": "https://localhost:8080/",
          "height": 35
        },
        "outputId": "e8146659-b9b5-4806-cdfe-cb7b705a1cab"
      },
      "source": [
        "a = \"python\"\n",
        "a.capitalize()"
      ],
      "execution_count": 52,
      "outputs": [
        {
          "output_type": "execute_result",
          "data": {
            "application/vnd.google.colaboratory.intrinsic+json": {
              "type": "string"
            },
            "text/plain": [
              "'Python'"
            ]
          },
          "metadata": {
            "tags": []
          },
          "execution_count": 52
        }
      ]
    }
  ]
}