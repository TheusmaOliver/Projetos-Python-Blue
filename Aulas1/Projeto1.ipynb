{
  "nbformat": 4,
  "nbformat_minor": 0,
  "metadata": {
    "colab": {
      "name": "Projeto1.ipynb",
      "provenance": [],
      "collapsed_sections": [],
      "authorship_tag": "ABX9TyNs1J8n93I4jKrIbwbE0nBk",
      "include_colab_link": true
    },
    "kernelspec": {
      "name": "python3",
      "display_name": "Python 3"
    },
    "language_info": {
      "name": "python"
    },
    "accelerator": "GPU"
  },
  "cells": [
    {
      "cell_type": "markdown",
      "metadata": {
        "id": "view-in-github",
        "colab_type": "text"
      },
      "source": [
        "<a href=\"https://colab.research.google.com/github/TheusmaOliver/Projetos-Python-Blue/blob/main/Aulas1/Projeto1.ipynb\" target=\"_parent\"><img src=\"https://colab.research.google.com/assets/colab-badge.svg\" alt=\"Open In Colab\"/></a>"
      ]
    },
    {
      "cell_type": "markdown",
      "metadata": {
        "id": "GY6Q52pTEJEf"
      },
      "source": [
        "# Comando Print()"
      ]
    },
    {
      "cell_type": "code",
      "metadata": {
        "colab": {
          "base_uri": "https://localhost:8080/"
        },
        "id": "jdeyv06Xwncc",
        "outputId": "42897bfa-a102-430f-a9d7-19fa9f43bda8"
      },
      "source": [
        "print (\"Olá Mundo\")"
      ],
      "execution_count": 3,
      "outputs": [
        {
          "output_type": "stream",
          "text": [
            "Olá Mundo\n"
          ],
          "name": "stdout"
        }
      ]
    },
    {
      "cell_type": "code",
      "metadata": {
        "colab": {
          "base_uri": "https://localhost:8080/"
        },
        "id": "M7mgYNHVEOcQ",
        "outputId": "edf6ee60-8495-4536-e264-bf81d625e210"
      },
      "source": [
        "print (7+4)"
      ],
      "execution_count": 4,
      "outputs": [
        {
          "output_type": "stream",
          "text": [
            "11\n"
          ],
          "name": "stdout"
        }
      ]
    },
    {
      "cell_type": "markdown",
      "metadata": {
        "id": "rFAUvMw-Jwus"
      },
      "source": [
        "# Operadores Aritméticos"
      ]
    },
    {
      "cell_type": "code",
      "metadata": {
        "colab": {
          "base_uri": "https://localhost:8080/"
        },
        "id": "ESyk_j_yJ1QL",
        "outputId": "c23ff56c-db9f-41e1-8195-3bc75ae5081a"
      },
      "source": [
        "print (3**2)"
      ],
      "execution_count": 8,
      "outputs": [
        {
          "output_type": "stream",
          "text": [
            "9\n"
          ],
          "name": "stdout"
        }
      ]
    },
    {
      "cell_type": "code",
      "metadata": {
        "colab": {
          "base_uri": "https://localhost:8080/"
        },
        "id": "xUMbQnxgLRzS",
        "outputId": "f4537675-ba28-402c-9dd6-d7ca4734750a"
      },
      "source": [
        "print (4**4)"
      ],
      "execution_count": 9,
      "outputs": [
        {
          "output_type": "stream",
          "text": [
            "256\n"
          ],
          "name": "stdout"
        }
      ]
    },
    {
      "cell_type": "code",
      "metadata": {
        "colab": {
          "base_uri": "https://localhost:8080/"
        },
        "id": "pGE6ifRjLb9T",
        "outputId": "0563599e-cd1b-4a44-a60c-e323f5fc41db"
      },
      "source": [
        "print (10%2)"
      ],
      "execution_count": 10,
      "outputs": [
        {
          "output_type": "stream",
          "text": [
            "0\n"
          ],
          "name": "stdout"
        }
      ]
    },
    {
      "cell_type": "code",
      "metadata": {
        "colab": {
          "base_uri": "https://localhost:8080/"
        },
        "id": "r1NbmkFzLjaj",
        "outputId": "4862406e-220f-4b44-c392-7cc48f54012c"
      },
      "source": [
        "print(4//3)"
      ],
      "execution_count": 11,
      "outputs": [
        {
          "output_type": "stream",
          "text": [
            "1\n"
          ],
          "name": "stdout"
        }
      ]
    },
    {
      "cell_type": "code",
      "metadata": {
        "colab": {
          "base_uri": "https://localhost:8080/"
        },
        "id": "g0nfAw3wLm8r",
        "outputId": "a3b21071-c99e-4c37-b75c-cb92744b92e8"
      },
      "source": [
        "print (12//4)"
      ],
      "execution_count": 12,
      "outputs": [
        {
          "output_type": "stream",
          "text": [
            "3\n"
          ],
          "name": "stdout"
        }
      ]
    },
    {
      "cell_type": "code",
      "metadata": {
        "colab": {
          "base_uri": "https://localhost:8080/"
        },
        "id": "7bIbguADLqjU",
        "outputId": "e4e4bc56-8c89-40b1-9439-a3cbf64c6812"
      },
      "source": [
        "print(24//7)"
      ],
      "execution_count": 13,
      "outputs": [
        {
          "output_type": "stream",
          "text": [
            "3\n"
          ],
          "name": "stdout"
        }
      ]
    },
    {
      "cell_type": "code",
      "metadata": {
        "colab": {
          "base_uri": "https://localhost:8080/"
        },
        "id": "wn4fPnabLvuL",
        "outputId": "c014f830-1535-4b3f-f12f-deadc7eed532"
      },
      "source": [
        "print(17/3)"
      ],
      "execution_count": 14,
      "outputs": [
        {
          "output_type": "stream",
          "text": [
            "5.666666666666667\n"
          ],
          "name": "stdout"
        }
      ]
    },
    {
      "cell_type": "code",
      "metadata": {
        "colab": {
          "base_uri": "https://localhost:8080/"
        },
        "id": "oR70PtYrMH0b",
        "outputId": "815da9e3-0d8e-4c43-af1f-59de1d2edac3"
      },
      "source": [
        "print(17//3)"
      ],
      "execution_count": 15,
      "outputs": [
        {
          "output_type": "stream",
          "text": [
            "5\n"
          ],
          "name": "stdout"
        }
      ]
    },
    {
      "cell_type": "markdown",
      "metadata": {
        "id": "AvBOlf9aMKxS"
      },
      "source": [
        "# Operadores Relacionais"
      ]
    },
    {
      "cell_type": "code",
      "metadata": {
        "colab": {
          "base_uri": "https://localhost:8080/"
        },
        "id": "l-13AT05MPPJ",
        "outputId": "31ee8daf-0cc2-4ca6-cefb-dd0a7351d653"
      },
      "source": [
        "a = 3\n",
        "b = 2\n",
        "print(a+b)\n",
        "print(a-b)\n",
        "print(a*b)\n",
        "print(a/b)\n",
        "print(a//b)\n",
        "print(a%b)\n"
      ],
      "execution_count": 19,
      "outputs": [
        {
          "output_type": "stream",
          "text": [
            "5\n",
            "1\n",
            "6\n",
            "1.5\n",
            "1\n",
            "1\n"
          ],
          "name": "stdout"
        }
      ]
    },
    {
      "cell_type": "code",
      "metadata": {
        "colab": {
          "base_uri": "https://localhost:8080/"
        },
        "id": "Tv8vF14xNArq",
        "outputId": "bacf7113-3613-4773-fef2-a330039247cf"
      },
      "source": [
        "soma = 4 + 25\n",
        "subtracao = 10 - 5  \n",
        "multiplicacao = 10 * 5\n",
        "divisao = 11 / 2\n",
        "\n",
        "print(soma)\n",
        "print(subtracao)\n",
        "print(multiplicacao)\n",
        "print(divisao)"
      ],
      "execution_count": 22,
      "outputs": [
        {
          "output_type": "stream",
          "text": [
            "29\n",
            "5\n",
            "50\n",
            "5.5\n"
          ],
          "name": "stdout"
        }
      ]
    },
    {
      "cell_type": "markdown",
      "metadata": {
        "id": "noNUvAQ1N2SM"
      },
      "source": [
        "\n",
        "\n",
        "*  Operadores Relacionais\n",
        "\n",
        "\n",
        "\n"
      ]
    },
    {
      "cell_type": "code",
      "metadata": {
        "colab": {
          "base_uri": "https://localhost:8080/"
        },
        "id": "a1DFrk-4ODHX",
        "outputId": "965d7d7e-51cd-4298-9cee-eb3d8872738e"
      },
      "source": [
        "print(2>3)"
      ],
      "execution_count": 23,
      "outputs": [
        {
          "output_type": "stream",
          "text": [
            "False\n"
          ],
          "name": "stdout"
        }
      ]
    },
    {
      "cell_type": "code",
      "metadata": {
        "colab": {
          "base_uri": "https://localhost:8080/"
        },
        "id": "vYCv5JraOHXR",
        "outputId": "38a5eb31-9e4e-48fd-aa85-09883b93ef0a"
      },
      "source": [
        "print(2<=5)"
      ],
      "execution_count": 24,
      "outputs": [
        {
          "output_type": "stream",
          "text": [
            "True\n"
          ],
          "name": "stdout"
        }
      ]
    },
    {
      "cell_type": "code",
      "metadata": {
        "colab": {
          "base_uri": "https://localhost:8080/"
        },
        "id": "-KWTEkhnPA8m",
        "outputId": "9c2eb05a-4625-4fbb-ed04-956b597e0102"
      },
      "source": [
        "print(3!=5)"
      ],
      "execution_count": 25,
      "outputs": [
        {
          "output_type": "stream",
          "text": [
            "True\n"
          ],
          "name": "stdout"
        }
      ]
    },
    {
      "cell_type": "code",
      "metadata": {
        "colab": {
          "base_uri": "https://localhost:8080/"
        },
        "id": "WojFw8zvPaXO",
        "outputId": "4fffda2e-dae5-4d47-a7a8-0bf6de648e69"
      },
      "source": [
        "a = 5\n",
        "print (a == 5)\n",
        "print (a == 4)\n",
        "print (a)"
      ],
      "execution_count": 27,
      "outputs": [
        {
          "output_type": "stream",
          "text": [
            "True\n",
            "False\n",
            "5\n"
          ],
          "name": "stdout"
        }
      ]
    },
    {
      "cell_type": "code",
      "metadata": {
        "colab": {
          "base_uri": "https://localhost:8080/"
        },
        "id": "cjX0x60UQuab",
        "outputId": "abd93899-8cfb-4f40-f051-b081fd4ef2aa"
      },
      "source": [
        "print ('GUSTAVO' == 'gustavo')"
      ],
      "execution_count": 28,
      "outputs": [
        {
          "output_type": "stream",
          "text": [
            "False\n"
          ],
          "name": "stdout"
        }
      ]
    },
    {
      "cell_type": "markdown",
      "metadata": {
        "id": "V1RH9p3xQyuN"
      },
      "source": [
        "\n",
        "\n",
        "*  Operadores Lógicos\n",
        "\n",
        "\n"
      ]
    },
    {
      "cell_type": "code",
      "metadata": {
        "colab": {
          "base_uri": "https://localhost:8080/"
        },
        "id": "qLHADqDBQ6aM",
        "outputId": "e380d47a-a7e2-442f-abbd-8cfc8aaed462"
      },
      "source": [
        "nota = 3\n",
        "nota <= 6 and nota >= 4"
      ],
      "execution_count": 34,
      "outputs": [
        {
          "output_type": "execute_result",
          "data": {
            "text/plain": [
              "False"
            ]
          },
          "metadata": {
            "tags": []
          },
          "execution_count": 34
        }
      ]
    },
    {
      "cell_type": "code",
      "metadata": {
        "colab": {
          "base_uri": "https://localhost:8080/"
        },
        "id": "JQ8YNz4uTJif",
        "outputId": "e9d0ebc5-d631-4a06-8e36-0301ff0a0666"
      },
      "source": [
        "nota = 5\n",
        "nota <= 6 and nota >= 4"
      ],
      "execution_count": 36,
      "outputs": [
        {
          "output_type": "execute_result",
          "data": {
            "text/plain": [
              "True"
            ]
          },
          "metadata": {
            "tags": []
          },
          "execution_count": 36
        }
      ]
    },
    {
      "cell_type": "code",
      "metadata": {
        "colab": {
          "base_uri": "https://localhost:8080/"
        },
        "id": "Qh1JPiVNTnBM",
        "outputId": "5319c925-cf62-481a-f696-005529fdeb3d"
      },
      "source": [
        "nota = 3\n",
        "nota <= 6 or nota >= 4"
      ],
      "execution_count": 37,
      "outputs": [
        {
          "output_type": "execute_result",
          "data": {
            "text/plain": [
              "True"
            ]
          },
          "metadata": {
            "tags": []
          },
          "execution_count": 37
        }
      ]
    },
    {
      "cell_type": "markdown",
      "metadata": {
        "id": "23zfY5-SUkf5"
      },
      "source": [
        "# Variáveis"
      ]
    },
    {
      "cell_type": "code",
      "metadata": {
        "id": "ekq1J55IUo8Q"
      },
      "source": [
        ""
      ],
      "execution_count": null,
      "outputs": []
    }
  ]
}