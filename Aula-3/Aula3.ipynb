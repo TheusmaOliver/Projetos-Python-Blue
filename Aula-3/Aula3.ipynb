{
  "nbformat": 4,
  "nbformat_minor": 0,
  "metadata": {
    "colab": {
      "name": "Aula3.ipynb",
      "provenance": [],
      "authorship_tag": "ABX9TyMnOV7atTnFVKzBJTKQePJB",
      "include_colab_link": true
    },
    "kernelspec": {
      "name": "python3",
      "display_name": "Python 3"
    },
    "language_info": {
      "name": "python"
    }
  },
  "cells": [
    {
      "cell_type": "markdown",
      "metadata": {
        "id": "view-in-github",
        "colab_type": "text"
      },
      "source": [
        "<a href=\"https://colab.research.google.com/github/TheusmaOliver/Projetos-Python-Blue/blob/main/Aula-3/Aula3.ipynb\" target=\"_parent\"><img src=\"https://colab.research.google.com/assets/colab-badge.svg\" alt=\"Open In Colab\"/></a>"
      ]
    },
    {
      "cell_type": "markdown",
      "metadata": {
        "id": "sG87o94rEiEi"
      },
      "source": [
        "# **Estrutura de  controle: Bloco com IF,ELSE**"
      ]
    },
    {
      "cell_type": "code",
      "metadata": {
        "colab": {
          "base_uri": "https://localhost:8080/"
        },
        "id": "WFWD1qqtC4c0",
        "outputId": "6300ed11-8e7d-4349-9da8-6b9d4eca228f"
      },
      "source": [
        "nota = 8.0\n",
        "if nota < 7.0 :\n",
        "  print(\"Aluno em recuperação\")\n",
        "else:\n",
        "  print(\"Aluno aprovado!\")"
      ],
      "execution_count": 1,
      "outputs": [
        {
          "output_type": "stream",
          "text": [
            "Aluno aprovado!\n"
          ],
          "name": "stdout"
        }
      ]
    },
    {
      "cell_type": "markdown",
      "metadata": {
        "id": "pJNQcAndE08q"
      },
      "source": [
        "**Estrutura de controle: Bloco com IF,ELIF,ELSE**"
      ]
    },
    {
      "cell_type": "code",
      "metadata": {
        "colab": {
          "base_uri": "https://localhost:8080/"
        },
        "id": "VXBTSdnOEx7e",
        "outputId": "599db493-ebb4-494a-cbff-e901e8b090fd"
      },
      "source": [
        "nota = 7.5\n",
        "if nota >= 7.0:\n",
        "  print(\"Aluno aprovado\")\n",
        "elif nota >= 4 and nota < 7:\n",
        "  print(\"Aluno em recuperação\")\n",
        "else:\n",
        "  print(\"Aluno reprovado\")"
      ],
      "execution_count": 2,
      "outputs": [
        {
          "output_type": "stream",
          "text": [
            "Aluno aprovado\n"
          ],
          "name": "stdout"
        }
      ]
    },
    {
      "cell_type": "markdown",
      "metadata": {
        "id": "amzLLROwFSCR"
      },
      "source": [
        "**Estrutura de controle:IFs aninhados**"
      ]
    },
    {
      "cell_type": "markdown",
      "metadata": {
        "id": "kaV7SdSIFbVj"
      },
      "source": [
        "Exemplo:"
      ]
    },
    {
      "cell_type": "code",
      "metadata": {
        "colab": {
          "base_uri": "https://localhost:8080/"
        },
        "id": "9uRtw1UsFawZ",
        "outputId": "0f16738e-614d-408e-c7d5-2fdff81e9c77"
      },
      "source": [
        "nota = 8.0\n",
        "if nota < 7.0:\n",
        "  if nota >= 5:\n",
        "      print(\"Aluno em recuperação\")\n",
        "  else:\n",
        "      print(\"Aluno reprovado\")\n",
        "else:\n",
        "      print(\"Aluno aprovado\")"
      ],
      "execution_count": 3,
      "outputs": [
        {
          "output_type": "stream",
          "text": [
            "Aluno aprovado\n"
          ],
          "name": "stdout"
        }
      ]
    },
    {
      "cell_type": "markdown",
      "metadata": {
        "id": "_9Qbyy5BF4WJ"
      },
      "source": [
        "# **Exercício para treinar**"
      ]
    },
    {
      "cell_type": "markdown",
      "metadata": {
        "id": "wgG0sCbuGA9L"
      },
      "source": [
        "**Resolução - exercício 1**"
      ]
    },
    {
      "cell_type": "code",
      "metadata": {
        "id": "8UXOVl7eF3XB"
      },
      "source": [
        "print(\"Escolha 3 números inteiros\")\n",
        "print()\n",
        "numero1 = int(input(\"Escolha o primeiro número: \"))\n",
        "numero2 = int(input(\"Escolha o segundo número: \"))\n",
        "numero3 = int(input(\"Escolha o terceiro número: \"))\n",
        "print()\n",
        "\n",
        "max = numero1\n",
        "\n",
        "if numero2 > max:\n",
        "    max = numero2\n",
        "if numero3 > max:\n",
        "    max = numero3\n",
        "\n",
        "min = numero1\n",
        "\n",
        "if numero2 < min:\n",
        "    min = numero2\n",
        "if numero3 < min:\n",
        "    min = numero3\n",
        "\n",
        "print(\"O maior numero entre eles é:\", max)    \n",
        "print()\n",
        "print(\"O menor numero entre eles é:\", min)  "
      ],
      "execution_count": null,
      "outputs": []
    },
    {
      "cell_type": "markdown",
      "metadata": {
        "id": "AqgVEKYDR4ln"
      },
      "source": [
        "**Resolução - exercício 2**"
      ]
    },
    {
      "cell_type": "code",
      "metadata": {
        "colab": {
          "base_uri": "https://localhost:8080/"
        },
        "id": "dz30GeJHI8GJ",
        "outputId": "b4b68427-0fc2-4c68-d3b2-5e73ccbe4b7c"
      },
      "source": [
        "print(\"Escolha 2 números inteiros\")\n",
        "numero1 = int(input(\"Escolha o primeiro número: \"))\n",
        "print()\n",
        "numero2 = int(input(\"Escolha o segundo número: \"))\n",
        "print()\n",
        "\n",
        "max = numero1\n",
        "\n",
        "if numero2 > max:\n",
        "    max = numero2\n",
        "else:\n",
        "    max = numero1\n",
        "\n",
        "print(\"O maior número entre eles é: \", max)"
      ],
      "execution_count": 14,
      "outputs": [
        {
          "output_type": "stream",
          "text": [
            "Escolha 2 números inteiros\n",
            "Escolha o primeiro número: 3\n",
            "\n",
            "Escolha o segundo número: 5\n",
            "\n",
            "O maior número entre eles é:  5\n"
          ],
          "name": "stdout"
        }
      ]
    },
    {
      "cell_type": "markdown",
      "metadata": {
        "id": "O9wSwgVJSHNG"
      },
      "source": [
        "**Resolução - exercício 3**"
      ]
    },
    {
      "cell_type": "code",
      "metadata": {
        "colab": {
          "base_uri": "https://localhost:8080/"
        },
        "id": "Zd824nnyLsGp",
        "outputId": "540511ad-bf81-4a44-b7fd-a7ed7c97d60e"
      },
      "source": [
        "print(\"Escolha 1 numero inteiro\")\n",
        "numero1 = int(input(\"Escolha um número: \"))\n",
        "print()\n",
        "\n",
        "\n",
        "if numero1 < 0:\n",
        "    print ('O numero é negativo')\n",
        "else:\n",
        "    print ('O numero é positivo')"
      ],
      "execution_count": 18,
      "outputs": [
        {
          "output_type": "stream",
          "text": [
            "Escolha 1 numero inteiro\n",
            "Escolha um número: -2\n",
            "\n",
            "O numero é negativo\n"
          ],
          "name": "stdout"
        }
      ]
    },
    {
      "cell_type": "markdown",
      "metadata": {
        "id": "QWzPrqqLSK6p"
      },
      "source": [
        "**Resolução - exercício 4**"
      ]
    },
    {
      "cell_type": "code",
      "metadata": {
        "colab": {
          "base_uri": "https://localhost:8080/"
        },
        "id": "Yq-pZ4xQLy6f",
        "outputId": "3dbe74a9-b737-4704-f8d4-a1f007298b54"
      },
      "source": [
        "print(\"Informe seu sexo\")\n",
        "letra = input(\"Digite uma letra(F - Feminino, M - Masculino ): \")\n",
        "\n",
        "if letra == 'm' or letra == 'M':\n",
        "    print(\"Masculino\")\n",
        "elif letra == 'f' or letra == 'F':\n",
        "    print(\"Feminino\")\n",
        "else:\n",
        "    print(\"Sexo invalido\")"
      ],
      "execution_count": 28,
      "outputs": [
        {
          "output_type": "stream",
          "text": [
            "Informe seu sexo\n",
            "Digite uma letra(F - Feminino, M - Masculino ): f\n",
            "Feminino\n"
          ],
          "name": "stdout"
        }
      ]
    },
    {
      "cell_type": "markdown",
      "metadata": {
        "id": "gcSc_wssSPuB"
      },
      "source": [
        "**Resolução - exercicio 5**"
      ]
    },
    {
      "cell_type": "code",
      "metadata": {
        "colab": {
          "base_uri": "https://localhost:8080/"
        },
        "id": "pTqyLHRtNbrl",
        "outputId": "96d570ba-068d-4427-9aea-0ffec38cd9f5"
      },
      "source": [
        "print(\"Nota do aluno\")\n",
        "nota = float(input(\"Digite a nota do aluno: \"))\n",
        "\n",
        "\n",
        "if nota < 6.0:\n",
        "    print(\"Nota F\")\n",
        "elif nota < 7.0:\n",
        "    print(\"Nota D\")\n",
        "elif nota < 8.0:\n",
        "    print(\"Nota C\")\n",
        "elif nota < 9.0:\n",
        "    print(\"Nota B\")\n",
        "else:\n",
        "    print(\"Um belo de um A\")"
      ],
      "execution_count": 30,
      "outputs": [
        {
          "output_type": "stream",
          "text": [
            "Nota do aluno\n",
            "Digite a nota do aluno: 9\n",
            "Um belo de um A\n"
          ],
          "name": "stdout"
        }
      ]
    },
    {
      "cell_type": "markdown",
      "metadata": {
        "id": "eiuPqqlxWH-J"
      },
      "source": [
        "**Resolução - exercício 6**"
      ]
    },
    {
      "cell_type": "code",
      "metadata": {
        "colab": {
          "base_uri": "https://localhost:8080/"
        },
        "id": "BWv7oJT1Pg_H",
        "outputId": "567fc667-c6d1-40fb-f0d3-c4fdc1205f3b"
      },
      "source": [
        "print(\"Saiba se a letra é vogal ou consoante\")\n",
        "\n",
        "letra = input(\"Informe uma letra:\")\n",
        "\n",
        "if letra ==\"a\":\n",
        "    print(\"Vogal\")\n",
        "elif letra == \"e\":\n",
        "    print(\"Vogal\")\n",
        "elif letra == \"i\":\n",
        "    print(\"Vogal\")\n",
        "elif letra == \"o\":\n",
        "    print(\"Vogal\")\n",
        "elif letra == \"u\":\n",
        "    print(\"Vogal\")\n",
        "else:\n",
        "    print(\"Consoante\")"
      ],
      "execution_count": 32,
      "outputs": [
        {
          "output_type": "stream",
          "text": [
            "Saiba se a letra é vogal ou consoante\n",
            "Informe uma letra:q\n",
            "Consoante\n"
          ],
          "name": "stdout"
        }
      ]
    },
    {
      "cell_type": "markdown",
      "metadata": {
        "id": "xyJeouylWRxq"
      },
      "source": [
        "# **Projeto 1**"
      ]
    },
    {
      "cell_type": "markdown",
      "metadata": {
        "id": "WBnzuqyUgaXd"
      },
      "source": [
        "**Desafio 1**"
      ]
    },
    {
      "cell_type": "code",
      "metadata": {
        "colab": {
          "base_uri": "https://localhost:8080/"
        },
        "id": "kANR4B5JWUVJ",
        "outputId": "e253569c-4385-4052-d223-e2828c50c8d8"
      },
      "source": [
        "print(\"Temas\")\n",
        "print()\n",
        "print(\"Medieval\",\n",
        "      \"\\nFuturista\\n\")\n",
        "\n",
        "ataque = input(\"Escolha seu ataque: \")\n",
        "\n",
        "if ataque == 'Medieval' or ataque == 'medieval':\n",
        "    print(\"\\n[sua arma é uma espada]\\n\")\n",
        "elif ataque == 'Futurista' or ataque == 'futurista':\n",
        "    print(\"\\n[sua arma é um sabre de luz]\\n\")\n",
        "else:\n",
        "    print(\"Tente novamente\")\n",
        "\n",
        "\n",
        "if ataque == 'Medieval' or ataque == 'medieval':\n",
        "    print(\"\\natacando o inimigo\")\n",
        "elif ataque == 'Futurista' or ataque == 'futurista':\n",
        "    print(\"\\natacando o inimigo\")\n",
        "else:\n",
        "    print(\"Você nao pode atacar o chefão pois não escolheu uma arma adequada\")\n",
        "\n",
        "\n",
        "if ataque == 'Medieval' or ataque == 'medieval':\n",
        "  print(\"\\nVOCÊ AINDA NÃO MATOU O CHEFÃO\")\n",
        "elif ataque == 'Futurista' or ataque == 'futurista':\n",
        "  print(\"\\nVOCÊ DERROTOU O CHEFÃO COM O SABRE DE LUZ\")\n",
        "else:\n",
        "  print(\"\\nATAQUE NOVAMENTE\")"
      ],
      "execution_count": 65,
      "outputs": [
        {
          "output_type": "stream",
          "text": [
            "Temas\n",
            "\n",
            "Medieval \n",
            "Futurista\n",
            "\n",
            "Escolha seu ataque: futurista\n",
            "\n",
            "[sua arma é um sabre de luz]\n",
            "\n",
            "\n",
            "atacando o inimigo\n",
            "\n",
            "VOCÊ DERROTOU O CHEFÃO COM O SABRE DE LUZ\n"
          ],
          "name": "stdout"
        }
      ]
    },
    {
      "cell_type": "markdown",
      "metadata": {
        "id": "T3PbGquwgdwx"
      },
      "source": [
        "**Desafio 2**"
      ]
    },
    {
      "cell_type": "code",
      "metadata": {
        "colab": {
          "base_uri": "https://localhost:8080/"
        },
        "id": "ETvL95jqZW4t",
        "outputId": "9cabcc3d-e781-4273-9c5b-c92dc761b145"
      },
      "source": [
        "print(\"Saiba quanto de aumento você terá no seu salario\\n\")\n",
        "\n",
        "salario = float(input(\"Digite o seu salário: \"))\n",
        "print()\n",
        "\n",
        "if salario <= 280.00:\n",
        "      percent = (20 / 100.0) * salario\n",
        "      reajuste = salario + percent\n",
        "      print (\"Seu salário antes do reajuste: R$\",salario)\n",
        "      print (\"Percentual aumentado: 20%\")\n",
        "      print (\"O valor do aumento é: R$\",percent)\n",
        "      print (\"Com o reajuste, o seu salário é: R$\",reajuste)\n",
        "\n",
        "elif salario > 280.00 and salario <= 700.00:\n",
        "      percent = (15 / 100.0) * salario\n",
        "      reajuste= salario + percent\n",
        "      print (\"Seu salário antes do reajuste: R$\",salario)\n",
        "      print (\"Percentual aumentado: 15%\")\n",
        "      print (\"O valor do aumento é: R$\",percent)\n",
        "      print (\"Com o reajuste, o seu salário é: R$\",reajuste)\n",
        "\n",
        "elif salario > 700.00 and salario <= 1500.00:\n",
        "      percent = (10 / 100.0) * salario\n",
        "      reajuste = salario + percent\n",
        "      print (\"Seu salário antes do reajuste: R$\",salario)\n",
        "      print (\"Percentual aumentado: 10%\")\n",
        "      print (\"O valor do aumento é: R$\",percent)\n",
        "      print (\"Com o reajuste, o seu salário é: R$\",reajuste)\n",
        "\n",
        "elif salario > 1500.00:\n",
        "      percent = (5 / 100.0) * salario\n",
        "      reajuste = salario + percent\n",
        "      print (\"Seu salário antes do reajuste: R$\",salario)\n",
        "      print (\"Percentual aumentado: 5%\")\n",
        "      print (\"O valor do aumento é: R$\",percent)\n",
        "      print (\"Com o reajuste, o seu salário é: R$\",reajuste)"
      ],
      "execution_count": 71,
      "outputs": [
        {
          "output_type": "stream",
          "text": [
            "Saiba quanto de aumento você terá no seu salario\n",
            "\n",
            "Digite o seu salário: 1600\n",
            "\n",
            "Seu salário antes do reajuste: R$ 1600.0\n",
            "Percentual aumentado: 5%\n",
            "O valor do aumento é: R$ 80.0\n",
            "Com o reajuste, o seu salário é: R$ 1680.0\n"
          ],
          "name": "stdout"
        }
      ]
    },
    {
      "cell_type": "markdown",
      "metadata": {
        "id": "kJQr9klZmR4Z"
      },
      "source": [
        "**Desafio 3**"
      ]
    },
    {
      "cell_type": "code",
      "metadata": {
        "colab": {
          "base_uri": "https://localhost:8080/"
        },
        "id": "w-THSAewjzyn",
        "outputId": "ea857e25-3c3c-4bb4-c99c-977d64046b2d"
      },
      "source": [
        "numero = int(input('Valor para sacar [10-600]: '))\n",
        "\n",
        "cem = int(numero / 100)\n",
        "numero = numero - (cem*100)\n",
        "    \n",
        "cinquenta = int(numero/50)\n",
        "numero = numero - (cinquenta*50)\n",
        "\n",
        "dez = int(numero/10)\n",
        "numero = numero - (dez*10)\n",
        "\n",
        "cinco = int(numero/5)\n",
        "numero = numero - (cinco*5)\n",
        "\n",
        "um = numero\n",
        "    \n",
        "print('Notas R$100,00 = ',cem)\n",
        "print('Notas R$ 50,00 = ',cinquenta)\n",
        "print('Notas R$ 10,00 = ',dez)\n",
        "print('Notas R$  5,00 = ',cinco)\n",
        "print('Notas R$  1,00 = ',um)"
      ],
      "execution_count": 73,
      "outputs": [
        {
          "output_type": "stream",
          "text": [
            "Valor para sacar [10-600]: 256\n",
            "Notas R$100,00 =  2\n",
            "Notas R$ 50,00 =  1\n",
            "Notas R$ 10,00 =  0\n",
            "Notas R$  5,00 =  1\n",
            "Notas R$  1,00 =  1\n"
          ],
          "name": "stdout"
        }
      ]
    }
  ]
}